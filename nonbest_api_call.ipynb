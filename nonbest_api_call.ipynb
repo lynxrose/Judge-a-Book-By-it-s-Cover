{
 "metadata": {
  "language_info": {
   "codemirror_mode": {
    "name": "ipython",
    "version": 3
   },
   "file_extension": ".py",
   "mimetype": "text/x-python",
   "name": "python",
   "nbconvert_exporter": "python",
   "pygments_lexer": "ipython3",
   "version": "3.7.9-final"
  },
  "orig_nbformat": 2,
  "kernelspec": {
   "name": "python3",
   "display_name": "Python 3"
  }
 },
 "nbformat": 4,
 "nbformat_minor": 2,
 "cells": [
  {
   "cell_type": "code",
   "execution_count": 1,
   "metadata": {},
   "outputs": [],
   "source": [
    "import urllib, demjson, os, json, requests, time, random\n",
    "import pandas as pd \n",
    "import numpy as np"
   ]
  },
  {
   "cell_type": "code",
   "execution_count": 2,
   "metadata": {},
   "outputs": [],
   "source": [
    "datelist = list(range(2009,2018))"
   ]
  },
  {
   "cell_type": "code",
   "execution_count": 4,
   "metadata": {},
   "outputs": [
    {
     "output_type": "execute_result",
     "data": {
      "text/plain": [
       "[2009, 2010, 2011, 2012, 2013, 2014, 2015, 2016, 2017]"
      ]
     },
     "metadata": {},
     "execution_count": 4
    }
   ],
   "source": [
    "for date in datelist:\n",
    "    for i in range(2000):\n",
    "        url = f'''https://www.googleapis.com/books/v1/volumes?q={date}&maxResults=1&start-index={1+i}'''\n",
    "        try:\n",
    "            response = urllib.request.urlopen(url)\n",
    "            temp_data = json.loads(response.read())\n",
    "            print(temp_data)\n",
    "            json_non.append(temp_data)\n",
    "            time.sleep(random.uniform(.5, 1))"
   ]
  },
  {
   "cell_type": "code",
   "execution_count": null,
   "metadata": {},
   "outputs": [],
   "source": [
    "# author_title_best\n",
    "json_non = []\n",
    "for i in range():\n",
    "    url = url.replace(' ','%20')\n",
    "    try:\n",
    "        response = urllib.request.urlopen(url)\n",
    "        temp_data = json.loads(response.read())\n",
    "        print(temp_data)\n",
    "        json_non.append(temp_data)\n",
    "        time.sleep(random.uniform(.5, 1))\n",
    " "
   ]
  }
 ]
}