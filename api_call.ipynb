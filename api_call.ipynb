{
 "metadata": {
  "language_info": {
   "codemirror_mode": {
    "name": "ipython",
    "version": 3
   },
   "file_extension": ".py",
   "mimetype": "text/x-python",
   "name": "python",
   "nbconvert_exporter": "python",
   "pygments_lexer": "ipython3",
   "version": "3.7.9-final"
  },
  "orig_nbformat": 2,
  "kernelspec": {
   "name": "python3",
   "display_name": "Python 3"
  }
 },
 "nbformat": 4,
 "nbformat_minor": 2,
 "cells": [
  {
   "cell_type": "code",
   "execution_count": 5,
   "metadata": {},
   "outputs": [],
   "source": [
    "import urllib, demjson, os, json, requests, time, random\n",
    "import pandas as pd \n",
    "import numpy as np"
   ]
  },
  {
   "cell_type": "code",
   "execution_count": 6,
   "metadata": {},
   "outputs": [],
   "source": [
    "# track to not overload google's API\n",
    "how_far_indexed = 0\n",
    "# track every image to latter append to DF\n",
    "imagelist = []"
   ]
  },
  {
   "cell_type": "code",
   "execution_count": 79,
   "metadata": {},
   "outputs": [],
   "source": [
    "#new york times best sellers\n",
    "data = pd.read_json('nyt2.json', lines=True)"
   ]
  },
  {
   "cell_type": "code",
   "execution_count": 8,
   "metadata": {},
   "outputs": [],
   "source": [
    "#information needed\n",
    "author_title_best = data[['author','title']]"
   ]
  },
  {
   "cell_type": "code",
   "execution_count": 77,
   "metadata": {},
   "outputs": [],
   "source": [
    "#drop duplicate best seller entries\n",
    "author_title_best = author_title_best.drop_duplicates(subset=['title'])"
   ]
  },
  {
   "cell_type": "code",
   "execution_count": 10,
   "metadata": {},
   "outputs": [
    {
     "output_type": "execute_result",
     "data": {
      "text/plain": [
       "0                       ODD HOURS\n",
       "1                        THE HOST\n",
       "2        LOVE THE ONE YOU'RE WITH\n",
       "3                       THE FRONT\n",
       "4                           SNUFF\n",
       "                   ...           \n",
       "10190    TOM CLANCY LINE OF SIGHT\n",
       "10191      SOMETHING IN THE WATER\n",
       "10192     LITTLE FIRES EVERYWHERE\n",
       "10193            SHELTER IN PLACE\n",
       "10194        THE LAST TIME I LIED\n",
       "Name: title, Length: 10195, dtype: object"
      ]
     },
     "metadata": {},
     "execution_count": 10
    }
   ],
   "source": [
    "#try my best to remove difficult charators\n",
    "author_title_best['author'].str.encode('ascii', 'ignore').str.decode('ascii')\n",
    "author_title_best['title'].str.encode('ascii', 'ignore').str.decode('ascii')"
   ]
  },
  {
   "cell_type": "code",
   "execution_count": 97,
   "metadata": {
    "tags": [
     "outputPrepend"
    ]
   },
   "outputs": [
    {
     "output_type": "stream",
     "name": "stdout",
     "text": [
      "yed her entire family and left her penniless. Her biggest asset is a mysterious man known only as Kere.'}}]}\n",
      "{'kind': 'books#volumes', 'totalItems': 10, 'items': [{'kind': 'books#volume', 'id': 'UKYeb_dZFwsC', 'etag': 'QZm63xrVTyk', 'selfLink': 'https://www.googleapis.com/books/v1/volumes/UKYeb_dZFwsC', 'volumeInfo': {'title': 'Skinnydipping', 'subtitle': 'A Novel', 'authors': ['Bethenny Frankel'], 'publisher': 'Simon and Schuster', 'publishedDate': '2012-05-01', 'description': \"A tale loosely based on the author's early adulthood follows the experiences of a struggling actress and outspoken businesswoman whose ambitions lead her through several high-profile relationships.\", 'industryIdentifiers': [{'type': 'ISBN_13', 'identifier': '9781451667370'}, {'type': 'ISBN_10', 'identifier': '145166737X'}], 'readingModes': {'text': False, 'image': False}, 'pageCount': 368, 'printType': 'BOOK', 'categories': ['Fiction'], 'averageRating': 4, 'ratingsCount': 2, 'maturityRating': 'NOT_MATURE', 'allowAnonLogging': False, 'contentVersion': '0.1.0.0.preview.0', 'imageLinks': {'smallThumbnail': 'http://books.google.com/books/content?id=UKYeb_dZFwsC&printsec=frontcover&img=1&zoom=5&edge=curl&source=gbs_api', 'thumbnail': 'http://books.google.com/books/content?id=UKYeb_dZFwsC&printsec=frontcover&img=1&zoom=1&edge=curl&source=gbs_api'}, 'language': 'en', 'previewLink': 'http://books.google.com/books?id=UKYeb_dZFwsC&printsec=frontcover&dq=intitle:%22SKINNYDIPPING%22+inauthor:Bethenny+Frankel+with+Eve+Adamson&hl=&cd=1&source=gbs_api', 'infoLink': 'http://books.google.com/books?id=UKYeb_dZFwsC&dq=intitle:%22SKINNYDIPPING%22+inauthor:Bethenny+Frankel+with+Eve+Adamson&hl=&source=gbs_api', 'canonicalVolumeLink': 'https://books.google.com/books/about/Skinnydipping.html?hl=&id=UKYeb_dZFwsC'}, 'saleInfo': {'country': 'US', 'saleability': 'NOT_FOR_SALE', 'isEbook': False}, 'accessInfo': {'country': 'US', 'viewability': 'PARTIAL', 'embeddable': True, 'publicDomain': False, 'textToSpeechPermission': 'ALLOWED_FOR_ACCESSIBILITY', 'epub': {'isAvailable': False}, 'pdf': {'isAvailable': False}, 'webReaderLink': 'http://play.google.com/books/reader?id=UKYeb_dZFwsC&hl=&printsec=frontcover&source=gbs_api', 'accessViewStatus': 'SAMPLE', 'quoteSharingAllowed': False}, 'searchInfo': {'textSnippet': 'A tale loosely based on the author&#39;s early adulthood follows the experiences of a struggling actress and outspoken businesswoman whose ambitions lead her through several high-profile relationships.'}}]}\n",
      "{'kind': 'books#volumes', 'totalItems': 27, 'items': [{'kind': 'books#volume', 'id': 'IGo2x1uqVr0C', 'etag': 'X912uCbmS60', 'selfLink': 'https://www.googleapis.com/books/v1/volumes/IGo2x1uqVr0C', 'volumeInfo': {'title': '11th Hour - Free Preview', 'authors': ['James Patterson', 'Maxine Paetro'], 'publisher': 'Little, Brown', 'publishedDate': '2012-04-02', 'description': \"Your best friend Lindsay Boxer is pregnant at last! But her work doesn't slow for a second. When millionaire Chaz Smith is mercilessly gunned down, she discovers that the murder weapon is linked to the deaths of four of San Francisco's most untouchable criminals. And it was taken from her own department's evidence locker. Anyone could be the killer--even her closest friends. Or a vicious killer? Lindsay is called next to the most bizarre crime scene she's ever seen: two bodiless heads elaborately displayed in the garden of a world-famous actor. Another head is unearthed in the garden, and Lindsay realizes that the ground could hide hundreds of victims. You won't know until the 11th hour A reporter launches a series of vicious articles about the cases and Lindsay's personal life is laid bare. But this time she has no one to turn to--especially not Joe. 11TH HOUR is the most shocking, most emotional, and most thrilling Women's Murder Club novel ever.\", 'industryIdentifiers': [{'type': 'ISBN_13', 'identifier': '9780316221771'}, {'type': 'ISBN_10', 'identifier': '0316221775'}], 'readingModes': {'text': True, 'image': False}, 'pageCount': 416, 'printType': 'BOOK', 'categories': ['Fiction'], 'averageRating': 3.5, 'ratingsCount': 31, 'maturityRating': 'NOT_MATURE', 'allowAnonLogging': True, 'contentVersion': 'preview-1.0.0', 'imageLinks': {'smallThumbnail': 'http://books.google.com/books/content?id=IGo2x1uqVr0C&printsec=frontcover&img=1&zoom=5&edge=curl&source=gbs_api', 'thumbnail': 'http://books.google.com/books/content?id=IGo2x1uqVr0C&printsec=frontcover&img=1&zoom=1&edge=curl&source=gbs_api'}, 'language': 'en', 'previewLink': 'http://books.google.com/books?id=IGo2x1uqVr0C&printsec=frontcover&dq=intitle:%2211TH+HOUR%22+inauthor:James+Patterson+and+Maxine+Paetro&hl=&cd=1&source=gbs_api', 'infoLink': 'https://play.google.com/store/books/details?id=IGo2x1uqVr0C&source=gbs_api', 'canonicalVolumeLink': 'https://play.google.com/store/books/details?id=IGo2x1uqVr0C'}, 'saleInfo': {'country': 'US', 'saleability': 'FOR_SALE', 'isEbook': True, 'listPrice': {'amount': 0, 'currencyCode': 'USD'}, 'retailPrice': {'amount': 0, 'currencyCode': 'USD'}, 'buyLink': 'https://play.google.com/store/books/details?id=IGo2x1uqVr0C&rdid=book-IGo2x1uqVr0C&rdot=1&source=gbs_api'}, 'accessInfo': {'country': 'US', 'viewability': 'ALL_PAGES', 'embeddable': False, 'publicDomain': False, 'textToSpeechPermission': 'ALLOWED', 'epub': {'isAvailable': True, 'acsTokenLink': 'http://books.google.com/books/download/11th_Hour_Free_Preview-sample-epub.acsm?id=IGo2x1uqVr0C&format=epub&output=acs4_fulfillment_token&dl_type=sample&source=gbs_api'}, 'pdf': {'isAvailable': False}, 'webReaderLink': 'http://play.google.com/books/reader?id=IGo2x1uqVr0C&hl=&printsec=frontcover&source=gbs_api', 'accessViewStatus': 'SAMPLE', 'quoteSharingAllowed': False}, 'searchInfo': {'textSnippet': 'Your best friend Lindsay Boxer is pregnant at last!'}}]}\n",
      "{'kind': 'books#volumes', 'totalItems': 56, 'items': [{'kind': 'books#volume', 'id': 'kn_NX4fjdEYC', 'etag': 'tL47QJeR/V8', 'selfLink': 'https://www.googleapis.com/books/v1/volumes/kn_NX4fjdEYC', 'volumeInfo': {'title': 'Bring Up the Bodies', 'subtitle': 'A Novel', 'authors': ['Hilary Mantel'], 'publisher': 'Henry Holt and Company', 'publishedDate': '2012-05-08', 'description': \"Winner of the 2012 Man Booker Prize Winner of the 2012 Costa Book of the Year Award The sequel to Hilary Mantel's 2009 Man Booker Prize winner and New York Times bestseller, Wolf Hall delves into the heart of Tudor history with the downfall of Anne Boleyn Though he battled for seven years to marry her, Henry is disenchanted with Anne Boleyn. She has failed to give him a son and her sharp intelligence and audacious will alienate his old friends and the noble families of England. When the discarded Katherine dies in exile from the court, Anne stands starkly exposed, the focus of gossip and malice. At a word from Henry, Thomas Cromwell is ready to bring her down. Over three terrifying weeks, Anne is ensnared in a web of conspiracy, while the demure Jane Seymour stands waiting her turn for the poisoned wedding ring. But Anne and her powerful family will not yield without a ferocious struggle. Hilary Mantel's Bring Up the Bodies follows the dramatic trial of the queen and her suitors for adultery and treason. To defeat the Boleyns, Cromwell must ally with his natural enemies, the papist aristocracy. What price will he pay for Anne's head? Bring Up the Bodies is one of The New York Times' 10 Best Books of 2012, one of Publishers Weekly's Top 10 Best Books of 2012 and one of The Washington Post's 10 Best Books of 2012\", 'industryIdentifiers': [{'type': 'ISBN_13', 'identifier': '9781429947657'}, {'type': 'ISBN_10', 'identifier': '1429947659'}], 'readingModes': {'text': True, 'image': False}, 'pageCount': 432, 'printType': 'BOOK', 'categories': ['Fiction'], 'averageRating': 4, 'ratingsCount': 1420, 'maturityRating': 'NOT_MATURE', 'allowAnonLogging': True, 'contentVersion': '2.12.12.0.preview.2', 'panelizationSummary': {'containsEpubBubbles': False, 'containsImageBubbles': False}, 'imageLinks': {'smallThumbnail': 'http://books.google.com/books/content?id=kn_NX4fjdEYC&printsec=frontcover&img=1&zoom=5&edge=curl&source=gbs_api', 'thumbnail': 'http://books.google.com/books/content?id=kn_NX4fjdEYC&printsec=frontcover&img=1&zoom=1&edge=curl&source=gbs_api'}, 'language': 'en', 'previewLink': 'http://books.google.com/books?id=kn_NX4fjdEYC&printsec=frontcover&dq=intitle:%22BRING+UP+THE+BODIES%22+inauthor:Hilary+Mantel&hl=&cd=1&source=gbs_api', 'infoLink': 'https://play.google.com/store/books/details?id=kn_NX4fjdEYC&source=gbs_api', 'canonicalVolumeLink': 'https://play.google.com/store/books/details?id=kn_NX4fjdEYC'}, 'saleInfo': {'country': 'US', 'saleability': 'FOR_SALE', 'isEbook': True, 'listPrice': {'amount': 9.99, 'currencyCode': 'USD'}, 'retailPrice': {'amount': 9.99, 'currencyCode': 'USD'}, 'buyLink': 'https://play.google.com/store/books/details?id=kn_NX4fjdEYC&rdid=book-kn_NX4fjdEYC&rdot=1&source=gbs_api', 'offers': [{'finskyOfferType': 1, 'listPrice': {'amountInMicros': 9990000, 'currencyCode': 'USD'}, 'retailPrice': {'amountInMicros': 9990000, 'currencyCode': 'USD'}, 'giftable': True}]}, 'accessInfo': {'country': 'US', 'viewability': 'PARTIAL', 'embeddable': True, 'publicDomain': False, 'textToSpeechPermission': 'ALLOWED', 'epub': {'isAvailable': True, 'acsTokenLink': 'http://books.google.com/books/download/Bring_Up_the_Bodies-sample-epub.acsm?id=kn_NX4fjdEYC&format=epub&output=acs4_fulfillment_token&dl_type=sample&source=gbs_api'}, 'pdf': {'isAvailable': False}, 'webReaderLink': 'http://play.google.com/books/reader?id=kn_NX4fjdEYC&hl=&printsec=frontcover&source=gbs_api', 'accessViewStatus': 'SAMPLE', 'quoteSharingAllowed': False}, 'searchInfo': {'textSnippet': 'Winner of the 2012 Man Booker Prize Winner of the 2012 Costa Book of the Year Award The sequel to Hilary Mantel&#39;s 2009 Man Booker Prize winner and New York Times bestseller, Wolf Hall delves into the heart of Tudor history with the downfall ...'}}]}\n",
      "{'kind': 'books#volumes', 'totalItems': 20, 'items': [{'kind': 'books#volume', 'id': 'rfLCDgAAQBAJ', 'etag': 'ajp0XbTMexA', 'selfLink': 'https://www.googleapis.com/books/v1/volumes/rfLCDgAAQBAJ', 'volumeInfo': {'title': 'The Road to Grace', 'authors': ['Richard Paul Evans'], 'publisher': 'Simon and Schuster', 'publishedDate': '2013-03-05', 'description': 'Shattered by the sudden loss of his wife, home and business, once-successful advertising executive Alan Christoffersen embarks on a cross-country backpacking journey during which he meets people who help him to gain profound spiritual understandings. Reprint.', 'industryIdentifiers': [{'type': 'ISBN_13', 'identifier': '9781451628289'}, {'type': 'ISBN_10', 'identifier': '1451628285'}], 'readingModes': {'text': False, 'image': False}, 'pageCount': 234, 'printType': 'BOOK', 'categories': ['Fiction'], 'averageRating': 4.5, 'ratingsCount': 8, 'maturityRating': 'NOT_MATURE', 'allowAnonLogging': False, 'contentVersion': 'preview-1.0.0', 'panelizationSummary': {'containsEpubBubbles': False, 'containsImageBubbles': False}, 'imageLinks': {'smallThumbnail': 'http://books.google.com/books/content?id=rfLCDgAAQBAJ&printsec=frontcover&img=1&zoom=5&edge=curl&source=gbs_api', 'thumbnail': 'http://books.google.com/books/content?id=rfLCDgAAQBAJ&printsec=frontcover&img=1&zoom=1&edge=curl&source=gbs_api'}, 'language': 'en', 'previewLink': 'http://books.google.com/books?id=rfLCDgAAQBAJ&printsec=frontcover&dq=intitle:%22THE+ROAD+TO+GRACE%22+inauthor:Richard+Paul+Evans&hl=&cd=1&source=gbs_api', 'infoLink': 'http://books.google.com/books?id=rfLCDgAAQBAJ&dq=intitle:%22THE+ROAD+TO+GRACE%22+inauthor:Richard+Paul+Evans&hl=&source=gbs_api', 'canonicalVolumeLink': 'https://books.google.com/books/about/The_Road_to_Grace.html?hl=&id=rfLCDgAAQBAJ'}, 'saleInfo': {'country': 'US', 'saleability': 'NOT_FOR_SALE', 'isEbook': False}, 'accessInfo': {'country': 'US', 'viewability': 'PARTIAL', 'embeddable': True, 'publicDomain': False, 'textToSpeechPermission': 'ALLOWED_FOR_ACCESSIBILITY', 'epub': {'isAvailable': False}, 'pdf': {'isAvailable': False}, 'webReaderLink': 'http://play.google.com/books/reader?id=rfLCDgAAQBAJ&hl=&printsec=frontcover&source=gbs_api', 'accessViewStatus': 'SAMPLE', 'quoteSharingAllowed': False}, 'searchInfo': {'textSnippet': 'Shattered by the sudden loss of his wife, home and business, once-successful advertising executive Alan Christoffersen embarks on a cross-country backpacking journey during which he meets people who help him to gain profound spiritual ...'}}]}\n",
      "{'kind': 'books#volumes', 'totalItems': 20, 'items': [{'kind': 'books#volume', 'id': 'G8lWPj7_TlsC', 'etag': 'jQe06Qr7EV4', 'selfLink': 'https://www.googleapis.com/books/v1/volumes/G8lWPj7_TlsC', 'volumeInfo': {'title': 'In One Person', 'subtitle': 'A Novel', 'authors': ['John Irving'], 'publisher': 'Simon and Schuster', 'publishedDate': '2012-05-08', 'description': 'A New York Times bestselling novel of desire, secrecy, and sexual identity, In One Person is a story of unfulfilled love—tormented, funny, and affecting—and an impassioned embrace of our sexual differences. \"His most daringly political, sexually transgressive, and moving novel in well over a decade\" (Vanity Fair). Winner of a 2013 Lambda Literary Award Billy, the bisexual narrator and main character of In One Person, tells the tragicomic story (lasting more than half a century) of his life as a \"sexual suspect,\" a phrase first used by John Irving in 1978 in his landmark novel of \"terminal cases,\" The World According to Garp. In One Person is a poignant tribute to Billy’s friends and lovers—a theatrical cast of characters who defy category and convention. Not least, In One Person is an intimate and unforgettable portrait of the solitariness of a bisexual man who is dedicated to making himself \"worthwhile.\"', 'industryIdentifiers': [{'type': 'ISBN_13', 'identifier': '9781451664157'}, {'type': 'ISBN_10', 'identifier': '145166415X'}], 'readingModes': {'text': True, 'image': False}, 'pageCount': 448, 'printType': 'BOOK', 'categories': ['Fiction'], 'averageRating': 3.5, 'ratingsCount': 1908, 'maturityRating': 'MATURE', 'allowAnonLogging': True, 'contentVersion': '2.18.16.0.preview.2', 'panelizationSummary': {'containsEpubBubbles': False, 'containsImageBubbles': False}, 'imageLinks': {'smallThumbnail': 'http://books.google.com/books/content?id=G8lWPj7_TlsC&printsec=frontcover&img=1&zoom=5&edge=curl&source=gbs_api', 'thumbnail': 'http://books.google.com/books/content?id=G8lWPj7_TlsC&printsec=frontcover&img=1&zoom=1&edge=curl&source=gbs_api'}, 'language': 'en', 'previewLink': 'http://books.google.com/books?id=G8lWPj7_TlsC&printsec=frontcover&dq=intitle:%22IN+ONE+PERSON%22+inauthor:John+Irving&hl=&cd=1&source=gbs_api', 'infoLink': 'https://play.google.com/store/books/details?id=G8lWPj7_TlsC&source=gbs_api', 'canonicalVolumeLink': 'https://play.google.com/store/books/details?id=G8lWPj7_TlsC'}, 'saleInfo': {'country': 'US', 'saleability': 'FOR_SALE', 'isEbook': True, 'listPrice': {'amount': 11.99, 'currencyCode': 'USD'}, 'retailPrice': {'amount': 11.99, 'currencyCode': 'USD'}, 'buyLink': 'https://play.google.com/store/books/details?id=G8lWPj7_TlsC&rdid=book-G8lWPj7_TlsC&rdot=1&source=gbs_api', 'offers': [{'finskyOfferType': 1, 'listPrice': {'amountInMicros': 11990000, 'currencyCode': 'USD'}, 'retailPrice': {'amountInMicros': 11990000, 'currencyCode': 'USD'}, 'giftable': True}]}, 'accessInfo': {'country': 'US', 'viewability': 'PARTIAL', 'embeddable': True, 'publicDomain': False, 'textToSpeechPermission': 'ALLOWED_FOR_ACCESSIBILITY', 'epub': {'isAvailable': True, 'acsTokenLink': 'http://books.google.com/books/download/In_One_Person-sample-epub.acsm?id=G8lWPj7_TlsC&format=epub&output=acs4_fulfillment_token&dl_type=sample&source=gbs_api'}, 'pdf': {'isAvailable': False}, 'webReaderLink': 'http://play.google.com/books/reader?id=G8lWPj7_TlsC&hl=&printsec=frontcover&source=gbs_api', 'accessViewStatus': 'SAMPLE', 'quoteSharingAllowed': False}, 'searchInfo': {'textSnippet': 'Winner of a 2013 Lambda Literary Award Billy, the bisexual narrator and main character of In One Person, tells the tragicomic story (lasting more than half a century) of his life as a &quot;sexual suspect,&quot; a phrase first used by John Irving in ...'}}]}\n",
      "{'kind': 'books#volumes', 'totalItems': 28, 'items': [{'kind': 'books#volume', 'id': 'psNXXoMCzMwC', 'etag': 't/MHNb9TXmo', 'selfLink': 'https://www.googleapis.com/books/v1/volumes/psNXXoMCzMwC', 'volumeInfo': {'title': 'The Sins of the Father', 'authors': ['Jeffrey Archer'], 'publisher': \"St. Martin's Press\", 'publishedDate': '2012-05-08', 'description': 'On the heels of the international bestseller Only Time Will Tell, Jeffrey Archer picks up the sweeping story of the Clifton Chronicles.... Only days before Britain declares war on Germany, Harry Clifton, hoping to escape the consequences of long-buried family secrets, and forced to accept that his desire to marry Emma Barrington will never be fulfilled, has joined the Merchant Navy. But his ship is sunk in the Atlantic by a German U-boat, drowning almost the entire crew. An American cruise liner, the SS Kansas Star, rescues a handful of sailors, among them Harry and the third officer, an American named Tom Bradshaw. When Bradshaw dies in the night, Harry seizes on the chance to escape his tangled past and assumes his identity. But on landing in America, he quickly learns the mistake he has made, when he discovers what is awaiting Bradshaw in New York. Without any way of proving his true identity, Harry Clifton is now chained to a past that could be far worse than the one he had hoped to escape.', 'industryIdentifiers': [{'type': 'ISBN_13', 'identifier': '9781429949033'}, {'type': 'ISBN_10', 'identifier': '1429949031'}], 'readingModes': {'text': True, 'image': False}, 'pageCount': 352, 'printType': 'BOOK', 'categories': ['Fiction'], 'averageRating': 3.5, 'ratingsCount': 1116, 'maturityRating': 'NOT_MATURE', 'allowAnonLogging': True, 'contentVersion': '1.21.17.0.preview.2', 'panelizationSummary': {'containsEpubBubbles': False, 'containsImageBubbles': False}, 'imageLinks': {'smallThumbnail': 'http://books.google.com/books/content?id=psNXXoMCzMwC&printsec=frontcover&img=1&zoom=5&edge=curl&source=gbs_api', 'thumbnail': 'http://books.google.com/books/content?id=psNXXoMCzMwC&printsec=frontcover&img=1&zoom=1&edge=curl&source=gbs_api'}, 'language': 'en', 'previewLink': 'http://books.google.com/books?id=psNXXoMCzMwC&printsec=frontcover&dq=intitle:%22THE+SINS+OF+THE+FATHER%22+inauthor:Jeffrey+Archer&hl=&cd=1&source=gbs_api', 'infoLink': 'https://play.google.com/store/books/details?id=psNXXoMCzMwC&source=gbs_api', 'canonicalVolumeLink': 'https://play.google.com/store/books/details?id=psNXXoMCzMwC'}, 'saleInfo': {'country': 'US', 'saleability': 'FOR_SALE', 'isEbook': True, 'listPrice': {'amount': 9.99, 'currencyCode': 'USD'}, 'retailPrice': {'amount': 9.99, 'currencyCode': 'USD'}, 'buyLink': 'https://play.google.com/store/books/details?id=psNXXoMCzMwC&rdid=book-psNXXoMCzMwC&rdot=1&source=gbs_api', 'offers': [{'finskyOfferType': 1, 'listPrice': {'amountInMicros': 9990000, 'currencyCode': 'USD'}, 'retailPrice': {'amountInMicros': 9990000, 'currencyCode': 'USD'}, 'giftable': True}]}, 'accessInfo': {'country': 'US', 'viewability': 'PARTIAL', 'embeddable': True, 'publicDomain': False, 'textToSpeechPermission': 'ALLOWED', 'epub': {'isAvailable': True, 'acsTokenLink': 'http://books.google.com/books/download/The_Sins_of_the_Father-sample-epub.acsm?id=psNXXoMCzMwC&format=epub&output=acs4_fulfillment_token&dl_type=sample&source=gbs_api'}, 'pdf': {'isAvailable': False}, 'webReaderLink': 'http://play.google.com/books/reader?id=psNXXoMCzMwC&hl=&printsec=frontcover&source=gbs_api', 'accessViewStatus': 'SAMPLE', 'quoteSharingAllowed': False}, 'searchInfo': {'textSnippet': 'On the heels of the international bestseller Only Time Will Tell, Jeffrey Archer picks up the sweeping story of the Clifton Chronicles.'}}]}\n",
      "{'kind': 'books#volumes', 'totalItems': 0}\n"
     ]
    }
   ],
   "source": [
    "# author_title_best\n",
    "json_best = []\n",
    "removelist = []\n",
    "for i in range(950):\n",
    "    author = author_title_best.iloc[i,0]\n",
    "    title = author_title_best.iloc[i,1]\n",
    "    url = f'''https://www.googleapis.com/books/v1/volumes?q=intitle:\\\"{title}\\\"+inauthor:{author}&maxResults=1'''\n",
    "    url = url.replace(' ','%20')\n",
    "    try:\n",
    "        response = urllib.request.urlopen(url)\n",
    "        temp_data = json.loads(response.read())\n",
    "        json_best.append(temp_data)\n",
    "        time.sleep(random.uniform(.5, 1))\n",
    "    except UnicodeEncodeError:\n",
    "        removelist.append(i)\n"
   ]
  },
  {
   "cell_type": "code",
   "execution_count": 18,
   "metadata": {},
   "outputs": [],
   "source": [
    "#run once after every every call to remove book names that where not red\n",
    "author_title_best.drop(author_title_best.index[removelist])\n",
    "how_far_indexed += len(json_best)\n",
    "#now you can run the above function again"
   ]
  },
  {
   "cell_type": "code",
   "execution_count": 91,
   "metadata": {},
   "outputs": [],
   "source": [
    "#find the url in the json file\n",
    "def gettingUrl(file):\n",
    "    try:\n",
    "        current = json.loads(json.dumps(file))['items']\n",
    "        current = json.loads(json.dumps(current[0]))['volumeInfo']\n",
    "        title = json.loads(json.dumps(current))['title']\n",
    "        author = json.loads(json.dumps(current))['authors'][0]\n",
    "        current = json.loads(json.dumps(current))['imageLinks']\n",
    "        url = json.loads(json.dumps(current))['smallThumbnail']\n",
    "        return url, title, author\n",
    "    except KeyError:\n",
    "        return 'fail', '', ''"
   ]
  },
  {
   "cell_type": "code",
   "execution_count": 112,
   "metadata": {},
   "outputs": [
    {
     "output_type": "execute_result",
     "data": {
      "text/plain": [
       "{'kind': 'books#volumes',\n",
       " 'totalItems': 20,\n",
       " 'items': [{'kind': 'books#volume',\n",
       "   'id': 'ObWZAAAAQBAJ',\n",
       "   'etag': 'A6919X/NFYw',\n",
       "   'selfLink': 'https://www.googleapis.com/books/v1/volumes/ObWZAAAAQBAJ',\n",
       "   'volumeInfo': {'title': 'One Fifth Avenue',\n",
       "    'authors': ['Candace Bushnell'],\n",
       "    'publisher': 'Hachette Books',\n",
       "    'publishedDate': '2008-09-22',\n",
       "    'description': 'From one of the most consistently astute and engaging social commentators of our day comes another look at the tough and tender women of New York City--this time, through the lens of where they live. One Fifth Avenue, the Art Deco beauty towering over one of Manhattan\\'s oldest and most historically hip neighborhoods, is a one-of-a-kind address, the sort of building you have to earn your way into--one way or another. For the women in Candace Bushnell\\'s new novel, One Fifth Avenue, this edifice is essential to the lives they\\'ve carefully established--or hope to establish. From the hedge fund king\\'s wife to the aging gossip columnist to the free-spirited actress (a recent refugee from L.A.), each person\\'s game plan for a rich life comes together under the soaring roof of this landmark building. Acutely observed and mercilessly witty, One Fifth Avenue is a modern-day story of old and new money, that same combustible mix that Edith Wharton mastered in her novels about New York\\'s Gilded Age and F. Scott Fitzgerald illuminated in his Jazz Age tales. Many decades later, Bushnell\\'s New Yorkers suffer the same passions as those fictional Manhattanites from eras past: They thirst for power, for social prominence, and for marriages that are successful--at least to the public eye. But Bushnell is an original, and One Fifth Avenue is so fresh that it reads as if sexual politics, real estate theft, and fortunes lost in a day have never happened before. From Sex and the City through four successive novels, Bushnell has revealed a gift for tapping into the zeitgeist of any New York minute and, as one critic put it, staying uncannily \"just the slightest bit ahead of the curve.\" And with each book, she has deepened her range, but with a light touch that makes her complex literary accomplishments look easy. Her stories progress so nimbly and ring so true that it can seem as if anyone might write them--when, in fact, no one writes novels quite like Candace Bushnell. Fortunately for us, with One Fifth Avenue, she has done it again.',\n",
       "    'industryIdentifiers': [{'type': 'ISBN_13', 'identifier': '9781401395629'},\n",
       "     {'type': 'ISBN_10', 'identifier': '1401395627'}],\n",
       "    'readingModes': {'text': True, 'image': False},\n",
       "    'pageCount': 448,\n",
       "    'printType': 'BOOK',\n",
       "    'categories': ['Fiction'],\n",
       "    'averageRating': 4.5,\n",
       "    'ratingsCount': 9,\n",
       "    'maturityRating': 'NOT_MATURE',\n",
       "    'allowAnonLogging': True,\n",
       "    'contentVersion': '1.6.5.0.preview.2',\n",
       "    'panelizationSummary': {'containsEpubBubbles': False,\n",
       "     'containsImageBubbles': False},\n",
       "    'imageLinks': {'smallThumbnail': 'http://books.google.com/books/content?id=ObWZAAAAQBAJ&printsec=frontcover&img=1&zoom=5&edge=curl&source=gbs_api',\n",
       "     'thumbnail': 'http://books.google.com/books/content?id=ObWZAAAAQBAJ&printsec=frontcover&img=1&zoom=1&edge=curl&source=gbs_api'},\n",
       "    'language': 'en',\n",
       "    'previewLink': 'http://books.google.com/books?id=ObWZAAAAQBAJ&printsec=frontcover&dq=intitle:%22ONE+FIFTH+AVENUE%22+inauthor:Candace+Bushnell&hl=&cd=1&source=gbs_api',\n",
       "    'infoLink': 'https://play.google.com/store/books/details?id=ObWZAAAAQBAJ&source=gbs_api',\n",
       "    'canonicalVolumeLink': 'https://play.google.com/store/books/details?id=ObWZAAAAQBAJ'},\n",
       "   'saleInfo': {'country': 'US',\n",
       "    'saleability': 'FOR_SALE',\n",
       "    'isEbook': True,\n",
       "    'listPrice': {'amount': 7.99, 'currencyCode': 'USD'},\n",
       "    'retailPrice': {'amount': 7.99, 'currencyCode': 'USD'},\n",
       "    'buyLink': 'https://play.google.com/store/books/details?id=ObWZAAAAQBAJ&rdid=book-ObWZAAAAQBAJ&rdot=1&source=gbs_api',\n",
       "    'offers': [{'finskyOfferType': 1,\n",
       "      'listPrice': {'amountInMicros': 7990000, 'currencyCode': 'USD'},\n",
       "      'retailPrice': {'amountInMicros': 7990000, 'currencyCode': 'USD'},\n",
       "      'giftable': True}]},\n",
       "   'accessInfo': {'country': 'US',\n",
       "    'viewability': 'PARTIAL',\n",
       "    'embeddable': True,\n",
       "    'publicDomain': False,\n",
       "    'textToSpeechPermission': 'ALLOWED',\n",
       "    'epub': {'isAvailable': True,\n",
       "     'acsTokenLink': 'http://books.google.com/books/download/One_Fifth_Avenue-sample-epub.acsm?id=ObWZAAAAQBAJ&format=epub&output=acs4_fulfillment_token&dl_type=sample&source=gbs_api'},\n",
       "    'pdf': {'isAvailable': False},\n",
       "    'webReaderLink': 'http://play.google.com/books/reader?id=ObWZAAAAQBAJ&hl=&printsec=frontcover&source=gbs_api',\n",
       "    'accessViewStatus': 'SAMPLE',\n",
       "    'quoteSharingAllowed': False},\n",
       "   'searchInfo': {'textSnippet': 'Her stories progress so nimbly and ring so true that it can seem as if anyone might write them -- when, in fact, no one writes novels quite like Candace Bushnell. Fortunately for us, with One Fifth Avenue, she has done it again.'}}]}"
      ]
     },
     "metadata": {},
     "execution_count": 112
    }
   ],
   "source": [
    "json_best[100]"
   ]
  },
  {
   "cell_type": "code",
   "execution_count": 98,
   "metadata": {},
   "outputs": [],
   "source": [
    "urllist = []\n",
    "for idx, jsonFile in enumerate(json_best):\n",
    "    curr_url, title, author = (gettingUrl(jsonFile))\n",
    "    if (curr_url == 'fail'):\n",
    "        continue\n",
    "    img_data = requests.get(curr_url).content\n",
    "    title = title.replace('/',' ')\n",
    "    with open(f'best_sellers_images/{title}.jpg', 'wb') as handler:\n",
    "        handler.write(img_data)\n",
    "    imagelist.append(f'{title}.jpg')\n",
    "    authorlist.append(author)\n",
    "    titlelist.append(title)\n"
   ]
  },
  {
   "cell_type": "code",
   "execution_count": 105,
   "metadata": {},
   "outputs": [],
   "source": [
    "best_sellers = pd.DataFrame(list(zip(titlelist, authorlist,imagelist)),columns =['title', 'author','imagelist']) "
   ]
  },
  {
   "cell_type": "code",
   "execution_count": 106,
   "metadata": {},
   "outputs": [],
   "source": [
    "best_sellers = best_sellers.drop_duplicates(subset=['title'])\n",
    "best_sellers['best'] = 1"
   ]
  },
  {
   "cell_type": "code",
   "execution_count": 109,
   "metadata": {},
   "outputs": [],
   "source": [
    "best_sellers.to_csv('best_sellers.csv')"
   ]
  }
 ]
}